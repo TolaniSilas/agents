{
 "cells": [
  {
   "cell_type": "markdown",
   "id": "086375a2",
   "metadata": {},
   "source": [
    "# Bulding an AI Agent\n",
    "\n",
    "This notebook will walk you through the process of building an AI agent. According to Google, an **AI agent** is \"a software system that uses AI to pursue goals and complete tasks on behalf of users. It demonstrates reasoning, planning, and memory, and possesses a level of autonomy to make decisions, learn, and adapt.\"\n",
    "\n",
    "In this notebook, we explore the creation of an **AI agent** using the [LangChain](https://www.langchain.com/) framework."
   ]
  },
  {
   "cell_type": "markdown",
   "id": "25e374c9",
   "metadata": {},
   "source": [
    "### Install the neccessary libraries."
   ]
  },
  {
   "cell_type": "code",
   "execution_count": 1,
   "id": "2f5fb28d",
   "metadata": {},
   "outputs": [
    {
     "name": "stdout",
     "output_type": "stream",
     "text": [
      "Note: you may need to restart the kernel to use updated packages.\n"
     ]
    }
   ],
   "source": [
    "%pip install -qU \"langchain[groq]\""
   ]
  },
  {
   "cell_type": "code",
   "execution_count": 2,
   "id": "640f713c",
   "metadata": {},
   "outputs": [
    {
     "name": "stdout",
     "output_type": "stream",
     "text": [
      "Requirement already satisfied: python-dotenv in c:\\users\\new user\\documents\\agents\\.venv\\lib\\site-packages (1.1.0)\n",
      "Note: you may need to restart the kernel to use updated packages.\n"
     ]
    }
   ],
   "source": [
    "%pip install python-dotenv"
   ]
  },
  {
   "cell_type": "code",
   "execution_count": 3,
   "id": "7d47c7f9",
   "metadata": {},
   "outputs": [
    {
     "name": "stdout",
     "output_type": "stream",
     "text": [
      "Note: you may need to restart the kernel to use updated packages.\n"
     ]
    }
   ],
   "source": [
    "%pip install -qU langchain-community langgraph tavily-python langgraph-checkpoint-sqlite"
   ]
  },
  {
   "cell_type": "code",
   "execution_count": 4,
   "id": "a8f157e3",
   "metadata": {},
   "outputs": [
    {
     "name": "stdout",
     "output_type": "stream",
     "text": [
      "Note: you may need to restart the kernel to use updated packages.\n"
     ]
    }
   ],
   "source": [
    "%pip install -qU \"langchain[groq]\""
   ]
  },
  {
   "cell_type": "code",
   "execution_count": 5,
   "id": "a4314519",
   "metadata": {},
   "outputs": [],
   "source": [
    "import os\n",
    "from dotenv import load_dotenv"
   ]
  },
  {
   "cell_type": "markdown",
   "id": "a2f4426c",
   "metadata": {},
   "source": [
    "### Load the environment variables required for this project."
   ]
  },
  {
   "cell_type": "code",
   "execution_count": 6,
   "id": "5d7efa06",
   "metadata": {},
   "outputs": [],
   "source": [
    "# Load the environment variables from the .env file.\n",
    "load_dotenv()\n",
    "\n",
    "# Access the environment variables.\n",
    "groq_api_key = os.getenv(\"GROQ_API_KEY\")\n",
    "langsmith_tracing = os.getenv(\"LANGSMITH_TRACING\")\n",
    "langsmith_endpoint = os.getenv(\"LANGSMITH_ENDPOINT\")\n",
    "langsmith_api_key = os.getenv(\"LANGSMITH_API_KEY\")\n",
    "langsmith_project = os.getenv(\"LANGSMITH_PROJECT\")\n",
    "tavily_api_key = os.getenv(\"TAVILY_API_KEY\")\n",
    "\n",
    "# # Print the variables to verify.\n",
    "# print(\"GROQ API Key:\", groq_api_key)\n",
    "# print(\"LangSmith Tracing:\", langsmith_tracing)\n",
    "# print(\"LangSmith Endpoint:\", langsmith_endpoint)\n",
    "# print(\"LangSmith API Key:\", langsmith_api_key)\n",
    "# print(\"LangSmith Project:\", langsmith_project)"
   ]
  },
  {
   "cell_type": "code",
   "execution_count": 7,
   "id": "dbf097dc",
   "metadata": {},
   "outputs": [],
   "source": [
    "from langchain.chat_models import init_chat_model\n",
    "\n",
    "model = init_chat_model(model=\"llama-3.3-70b-versatile\", model_provider=\"groq\")\n",
    "\n",
    "from langchain_core.messages import HumanMessage\n",
    "\n",
    "response = model.invoke([HumanMessage(content=\"Hello, tell me about GENAI\")])"
   ]
  },
  {
   "cell_type": "code",
   "execution_count": 8,
   "id": "df59548a",
   "metadata": {},
   "outputs": [
    {
     "name": "stdout",
     "output_type": "stream",
     "text": [
      "GENAI is an AI model developed to process and generate human-like language. GENAI stands for Generalized AI, and it's designed to be a versatile and adaptable language model.\n",
      "\n",
      "Here are some key features of GENAI:\n",
      "\n",
      "1. **Language Understanding**: GENAI is trained on a massive dataset of text from various sources, allowing it to understand the nuances of language, including grammar, syntax, and context.\n",
      "2. **Text Generation**: GENAI can generate high-quality text based on a given prompt or topic. It can create articles, stories, emails, and even entire books.\n",
      "3. **Conversational Interface**: GENAI can engage in natural-sounding conversations, using context and understanding to respond to questions and statements.\n",
      "4. **Knowledge Retrieval**: GENAI has been trained on a vast amount of text data, allowing it to retrieve and provide information on a wide range of topics.\n",
      "5. **Continuous Learning**: GENAI is designed to learn and improve over time, adapting to new data and user interactions.\n",
      "\n",
      "GENAI has many potential applications, including:\n",
      "\n",
      "1. **Content Creation**: GENAI can assist with writing tasks, such as generating articles, blog posts, or social media content.\n",
      "2. **Customer Service**: GENAI can be used to power chatbots and virtual assistants, providing 24/7 customer support.\n",
      "3. **Language Translation**: GENAI can translate text from one language to another, breaking down language barriers.\n",
      "4. **Research Assistance**: GENAI can help researchers and students by providing information and insights on various topics.\n",
      "5. **Entertainment**: GENAI can generate creative content, such as stories, dialogues, or even entire scripts.\n",
      "\n",
      "Overall, GENAI is a powerful tool that has the potential to revolutionize the way we interact with language and access information.\n"
     ]
    }
   ],
   "source": [
    "print(response.content)"
   ]
  },
  {
   "cell_type": "markdown",
   "id": "d48ea9c5",
   "metadata": {},
   "source": [
    "### We will be using Tavily (a search engine), a tool for searching the web."
   ]
  },
  {
   "cell_type": "code",
   "execution_count": 9,
   "id": "23ea5e56",
   "metadata": {},
   "outputs": [
    {
     "name": "stdout",
     "output_type": "stream",
     "text": [
      "[{'title': 'Best football players in the world ranked 2025 - Radio Times', 'url': 'https://www.radiotimes.com/tv/sport/football/best-football-players-world/', 'content': 'He has started to move through the gears for Real Madrid and by the end of the campaign, he will have netted a ferocious haul of goals and, in all likelihood, trophies.\\nWho is the best football player in the world?\\nLionel Messi has been the undisputed king of the football world for the past decade, but his time at the top has drawn to a close. Kylian Mbappe is our best football player in the world 2025. [...] Who is the best player in world football? For the best part of two decades, the answer has been a coin toss. No longer.\\nAd\\nLionel Messi and Cristiano Ronaldo were the two greatest footballers of a generation, the former earning the Greatest of All Time tag in many quarters after capping off an outrageous career with the World Cup, the ultimate prize. [...] 2. Mohamed Salah (Liverpool)', 'score': 0.8993429}, {'title': '25 Best Footballers in the World (2025) - GiveMeSport', 'url': 'https://www.givemesport.com/best-football-players-in-the-world/', 'content': \"Mohamed Salah is currently rated as the world's best player thanks to his performances with Liverpool under Arne Slot.\\nThe winger narrowly beats the likes of Vinicius Junior, Rodri, and Harry Kane to top spot.\\nLionel Messi remains among the world's best players, but Cristiano Ronaldo drops out of the top 25 following a dismal Euro 2024. [...] | Top 25 Footballers in the World Right Now\\n |\\n| --- |\\n| Rank\\n| Player\\n| Club\\n| Country\\n|\\n| 1.\\n| Mohamed Salah\\n| Liverpool\\n| Egypt\\n|\\n| 2.\\n| Vinicius Junior\\n| Real Madrid\\n| Brazil\\n|\\n| 3.\\n| Rodri\\n| Manchester City\\n| Spain\\n|\\n| 4.\\n| Harry Kane\\n| Bayern Munich\\n| England\\n|\\n| 5.\\n| Robert Lewandowski\\n| Barcelona\\n| Poland\\n|\\n| 6.\\n| Erling Haaland\\n| Manchester City\\n| Norway\\n|\\n| 7.\\n| Lamine Yamal\\n| Barcelona\\n| Spain\\n|\\n| 8.\\n| Kylian Mbappe\\n| Real Madrid\\n| France\\n|\\n| 9.\\n| Jude Bellingham\\n| Real Madrid [...] | Arsenal\\n| England\\n|\\n| 21.\\n| Antonio Rudiger\\n| Real Madrid\\n| Germany\\n|\\n| 22.\\n| Kevin De Bruyne\\n| Manchester City\\n| Belgium\\n|\\n| 23.\\n| Phil Foden\\n| Manchester City\\n| England\\n|\\n| 24.\\n| Lautaro Martinez\\n| Real Madrid\\n| Germany\\n|\\n| 25.\\n| Antoine Griezmann\\n| Atletico Madrid\\n| France\\n|\\nBest Football Players in the World Image Gallery\\nClose\\n25 Antoine Griezmann\\nAtletico Madrid and France\\nClose\", 'score': 0.8976328}, {'title': \"The Best FIFA Men's Player - Wikipedia\", 'url': 'https://en.wikipedia.org/wiki/The_Best_FIFA_Men%27s_Player', 'content': 'Winners ; 2022 · 2nd. France · Kylian Mbappé ; 2022 · 3rd. France · Karim Benzema ; 2023, 1st. Argentina · Lionel Messi.', 'score': 0.73138535}]\n"
     ]
    }
   ],
   "source": [
    "from langchain_community.tools.tavily_search import TavilySearchResults\n",
    "\n",
    "search = TavilySearchResults(max_results=3)\n",
    "search_results = search.invoke(\"Who's the best footballer in the world?\")\n",
    "\n",
    "print(search_results)\n",
    "\n",
    "tools = [search]"
   ]
  },
  {
   "cell_type": "markdown",
   "id": "eb742b0d",
   "metadata": {},
   "source": [
    "Using the `.bind_tools()` method to give the language model knowledge of the Tavily tool."
   ]
  },
  {
   "cell_type": "code",
   "execution_count": 10,
   "id": "2ab47b3c",
   "metadata": {},
   "outputs": [
    {
     "name": "stdout",
     "output_type": "stream",
     "text": [
      "\n"
     ]
    }
   ],
   "source": [
    "model_with_tools = model.bind_tools(tools)\n",
    "\n",
    "response = model_with_tools.invoke([HumanMessage(content=\"what's computer networking?\")])\n",
    "\n",
    "print(response.content)"
   ]
  },
  {
   "cell_type": "markdown",
   "id": "13de1a5a",
   "metadata": {},
   "source": [
    "### Create and run the agent."
   ]
  },
  {
   "cell_type": "code",
   "execution_count": 11,
   "id": "01eee14a",
   "metadata": {},
   "outputs": [
    {
     "name": "stdout",
     "output_type": "stream",
     "text": [
      "[HumanMessage(content=\"Who's the best footballer in the world?\", additional_kwargs={}, response_metadata={}, id='04ff4e80-de86-4db8-b521-15ea773b7872'), AIMessage(content='', additional_kwargs={'tool_calls': [{'id': 'call_ndjz', 'function': {'arguments': '{\"query\": \"best footballer in the world\"}', 'name': 'tavily_search_results_json'}, 'type': 'function'}]}, response_metadata={'token_usage': {'completion_tokens': 23, 'prompt_tokens': 288, 'total_tokens': 311, 'completion_time': 0.083636364, 'prompt_time': 0.0182384, 'queue_time': 0.101058303, 'total_time': 0.101874764}, 'model_name': 'llama-3.3-70b-versatile', 'system_fingerprint': 'fp_3f3b593e33', 'finish_reason': 'tool_calls', 'logprobs': None}, id='run--e432eeb4-1d89-48d3-b029-056a2b54d7e6-0', tool_calls=[{'name': 'tavily_search_results_json', 'args': {'query': 'best footballer in the world'}, 'id': 'call_ndjz', 'type': 'tool_call'}], usage_metadata={'input_tokens': 288, 'output_tokens': 23, 'total_tokens': 311}), ToolMessage(content='[{\"title\": \"Best football players in the world ranked 2025 - Radio Times\", \"url\": \"https://www.radiotimes.com/tv/sport/football/best-football-players-world/\", \"content\": \"He has started to move through the gears for Real Madrid and by the end of the campaign, he will have netted a ferocious haul of goals and, in all likelihood, trophies.\\\\nWho is the best football player in the world?\\\\nLionel Messi has been the undisputed king of the football world for the past decade, but his time at the top has drawn to a close. Kylian Mbappe is our best football player in the world 2025. [...] Who is the best player in world football? For the best part of two decades, the answer has been a coin toss. No longer.\\\\nAd\\\\nLionel Messi and Cristiano Ronaldo were the two greatest footballers of a generation, the former earning the Greatest of All Time tag in many quarters after capping off an outrageous career with the World Cup, the ultimate prize. [...] 2. Mohamed Salah (Liverpool)\", \"score\": 0.8763069}, {\"title\": \"The Best FIFA Men\\'s Player - Wikipedia\", \"url\": \"https://en.wikipedia.org/wiki/The_Best_FIFA_Men%27s_Player\", \"content\": \"Players | FIFA World Playerof the Year(1991–2009) | FIFA Ballon d\\'Or(2010–2015) | The BestFIFA Men\\'s Player(2016–present) | Total[7]\\\\nLionel Messi | 1 | 4 | 3 | 8\\\\nCristiano Ronaldo | 1 | 2 | 2 | 5\\\\nRonaldo | 3 | — | — | 3\\\\nZinedine Zidane | 3 | — | — | 3\\\\nRonaldinho | 2 | — | — | 2\\\\nRobert Lewandowski | — | — | 2 | 2\\\\nLothar Matthäus | 1 | — | — | 1\\\\nMarco van Basten | 1 | — | — | 1\\\\nRoberto Baggio | 1 | — | — | 1\\\\nRomário | 1 | — | — | 1\\\\nGeorge Weah | 1 | — | — | 1\\\\nRivaldo | 1 | — | — | 1 [...] 2019 | 1st | Lionel Messi | Barcelona | 46\\\\n2nd | Virgil van Dijk | Liverpool | 38\\\\n3rd | Cristiano Ronaldo | Juventus | 36\\\\n\\\\n2020 | 1st | Robert Lewandowski | Bayern Munich | 52\\\\n2nd | Cristiano Ronaldo | Juventus | 38\\\\n3rd | Lionel Messi | Barcelona | 35\\\\n\\\\n2021 | 1st | Robert Lewandowski | Bayern Munich | 48\\\\n2nd | Lionel Messi[note 3] | Paris Saint-Germain | 44\\\\n3rd | Mohamed Salah | Liverpool | 39 [...] Year | Rank | Player | Team | Votes\\\\n2016 | 1st | Cristiano Ronaldo | Real Madrid | 34.54%\\\\n2nd | Lionel Messi | Barcelona | 26.42%\\\\n3rd | Antoine Griezmann | Atlético Madrid | 7.53%\\\\n\\\\n2017 | 1st | Cristiano Ronaldo | Real Madrid | 43.16%\\\\n2nd | Lionel Messi | Barcelona | 19.25%\\\\n3rd | Neymar[note 1] | Paris Saint-Germain | 6.97%\\\\n\\\\n2018 | 1st | Luka Modrić | Real Madrid | 29.05%\\\\n2nd | Cristiano Ronaldo[note 2] | Juventus | 19.08%\\\\n3rd | Mohamed Salah | Liverpool | 11.23%\", \"score\": 0.7938904}, {\"title\": \"Ranking the top 25 men\\'s soccer players of the 21st century - ESPN\", \"url\": \"https://www.espn.com/soccer/story/_/id/40490059/ranking-top-25-men-soccer-players-21st-century\", \"content\": \"Arguably the best soccer player in the world right now, Mbappé has followed the path of a prodigy. He made his professional debut at 16, scored his first goal at 17, played for France at 18 and won the World Cup at 19! His move from Paris Saint-Germain to Real Madrid this summer will take him to new heights and will strengthen even more his status as the heir of Lionel Messi and Cristiano Ronaldo. [...] It was no easy feat (and disagreements will surely follow), but after collating together thousands of votes, we present to you our ranking of the best 20 male soccer players of the 21st century -- and five others who just missed the list.\\\\n\\\\n\\\\n\\\\n1. Lionel Messi\", \"score\": 0.7440808}]', name='tavily_search_results_json', id='8e05a57d-ff4b-456d-a7fe-1ff331aba4d3', tool_call_id='call_ndjz', artifact={'query': 'best footballer in the world', 'follow_up_questions': None, 'answer': None, 'images': [], 'results': [{'url': 'https://www.radiotimes.com/tv/sport/football/best-football-players-world/', 'title': 'Best football players in the world ranked 2025 - Radio Times', 'content': 'He has started to move through the gears for Real Madrid and by the end of the campaign, he will have netted a ferocious haul of goals and, in all likelihood, trophies.\\nWho is the best football player in the world?\\nLionel Messi has been the undisputed king of the football world for the past decade, but his time at the top has drawn to a close. Kylian Mbappe is our best football player in the world 2025. [...] Who is the best player in world football? For the best part of two decades, the answer has been a coin toss. No longer.\\nAd\\nLionel Messi and Cristiano Ronaldo were the two greatest footballers of a generation, the former earning the Greatest of All Time tag in many quarters after capping off an outrageous career with the World Cup, the ultimate prize. [...] 2. Mohamed Salah (Liverpool)', 'score': 0.8763069, 'raw_content': None}, {'url': 'https://en.wikipedia.org/wiki/The_Best_FIFA_Men%27s_Player', 'title': \"The Best FIFA Men's Player - Wikipedia\", 'content': \"Players | FIFA World Playerof the Year(1991–2009) | FIFA Ballon d'Or(2010–2015) | The BestFIFA Men's Player(2016–present) | Total[7]\\nLionel Messi | 1 | 4 | 3 | 8\\nCristiano Ronaldo | 1 | 2 | 2 | 5\\nRonaldo | 3 | — | — | 3\\nZinedine Zidane | 3 | — | — | 3\\nRonaldinho | 2 | — | — | 2\\nRobert Lewandowski | — | — | 2 | 2\\nLothar Matthäus | 1 | — | — | 1\\nMarco van Basten | 1 | — | — | 1\\nRoberto Baggio | 1 | — | — | 1\\nRomário | 1 | — | — | 1\\nGeorge Weah | 1 | — | — | 1\\nRivaldo | 1 | — | — | 1 [...] 2019 | 1st | Lionel Messi | Barcelona | 46\\n2nd | Virgil van Dijk | Liverpool | 38\\n3rd | Cristiano Ronaldo | Juventus | 36\\n\\n2020 | 1st | Robert Lewandowski | Bayern Munich | 52\\n2nd | Cristiano Ronaldo | Juventus | 38\\n3rd | Lionel Messi | Barcelona | 35\\n\\n2021 | 1st | Robert Lewandowski | Bayern Munich | 48\\n2nd | Lionel Messi[note 3] | Paris Saint-Germain | 44\\n3rd | Mohamed Salah | Liverpool | 39 [...] Year | Rank | Player | Team | Votes\\n2016 | 1st | Cristiano Ronaldo | Real Madrid | 34.54%\\n2nd | Lionel Messi | Barcelona | 26.42%\\n3rd | Antoine Griezmann | Atlético Madrid | 7.53%\\n\\n2017 | 1st | Cristiano Ronaldo | Real Madrid | 43.16%\\n2nd | Lionel Messi | Barcelona | 19.25%\\n3rd | Neymar[note 1] | Paris Saint-Germain | 6.97%\\n\\n2018 | 1st | Luka Modrić | Real Madrid | 29.05%\\n2nd | Cristiano Ronaldo[note 2] | Juventus | 19.08%\\n3rd | Mohamed Salah | Liverpool | 11.23%\", 'score': 0.7938904, 'raw_content': None}, {'url': 'https://www.espn.com/soccer/story/_/id/40490059/ranking-top-25-men-soccer-players-21st-century', 'title': \"Ranking the top 25 men's soccer players of the 21st century - ESPN\", 'content': 'Arguably the best soccer player in the world right now, Mbappé has followed the path of a prodigy. He made his professional debut at 16, scored his first goal at 17, played for France at 18 and won the World Cup at 19! His move from Paris Saint-Germain to Real Madrid this summer will take him to new heights and will strengthen even more his status as the heir of Lionel Messi and Cristiano Ronaldo. [...] It was no easy feat (and disagreements will surely follow), but after collating together thousands of votes, we present to you our ranking of the best 20 male soccer players of the 21st century -- and five others who just missed the list.\\n\\n\\n\\n1. Lionel Messi', 'score': 0.7440808, 'raw_content': None}], 'response_time': 1.38}), AIMessage(content=\"Based on the search results, the current best footballer in the world is Kylian Mbappe, followed by Lionel Messi and Mohamed Salah. However, it's worth noting that the ranking can vary depending on the source and the criteria used to evaluate the players.\", additional_kwargs={}, response_metadata={'token_usage': {'completion_tokens': 53, 'prompt_tokens': 1373, 'total_tokens': 1426, 'completion_time': 0.192727273, 'prompt_time': 0.095833425, 'queue_time': 0.10147103800000001, 'total_time': 0.288560698}, 'model_name': 'llama-3.3-70b-versatile', 'system_fingerprint': 'fp_6507bcfb6f', 'finish_reason': 'stop', 'logprobs': None}, id='run--a806b9be-da1f-4fb6-8ec7-a7658ec4b96c-0', usage_metadata={'input_tokens': 1373, 'output_tokens': 53, 'total_tokens': 1426})]\n"
     ]
    }
   ],
   "source": [
    "from langgraph.prebuilt import create_react_agent\n",
    "\n",
    "agent_executor = create_react_agent(model=model, tools=tools)\n",
    "\n",
    "response  = agent_executor.invoke(\n",
    "    {\"messages\": [HumanMessage(content=\"Who's the best footballer in the world?\")]}\n",
    "    )\n",
    "\n",
    "print(response[\"messages\"])"
   ]
  },
  {
   "cell_type": "markdown",
   "id": "588c742c",
   "metadata": {},
   "source": [
    "### Stream the agent's response."
   ]
  },
  {
   "cell_type": "code",
   "execution_count": 12,
   "id": "f8b28a8a",
   "metadata": {},
   "outputs": [
    {
     "name": "stdout",
     "output_type": "stream",
     "text": [
      "================================\u001b[1m Human Message \u001b[0m=================================\n",
      "\n",
      "Who's the best footballer in the world?\n",
      "None\n",
      "==================================\u001b[1m Ai Message \u001b[0m==================================\n",
      "Tool Calls:\n",
      "  tavily_search_results_json (call_xd76)\n",
      " Call ID: call_xd76\n",
      "  Args:\n",
      "    query: best footballer in the world\n",
      "None\n",
      "=================================\u001b[1m Tool Message \u001b[0m=================================\n",
      "Name: tavily_search_results_json\n",
      "\n",
      "[{\"title\": \"Best football players in the world ranked 2025 - Radio Times\", \"url\": \"https://www.radiotimes.com/tv/sport/football/best-football-players-world/\", \"content\": \"He has started to move through the gears for Real Madrid and by the end of the campaign, he will have netted a ferocious haul of goals and, in all likelihood, trophies.\\nWho is the best football player in the world?\\nLionel Messi has been the undisputed king of the football world for the past decade, but his time at the top has drawn to a close. Kylian Mbappe is our best football player in the world 2025. [...] Who is the best player in world football? For the best part of two decades, the answer has been a coin toss. No longer.\\nAd\\nLionel Messi and Cristiano Ronaldo were the two greatest footballers of a generation, the former earning the Greatest of All Time tag in many quarters after capping off an outrageous career with the World Cup, the ultimate prize. [...] 2. Mohamed Salah (Liverpool)\", \"score\": 0.8763069}, {\"title\": \"The Best FIFA Men's Player - Wikipedia\", \"url\": \"https://en.wikipedia.org/wiki/The_Best_FIFA_Men%27s_Player\", \"content\": \"Players | FIFA World Playerof the Year(1991–2009) | FIFA Ballon d'Or(2010–2015) | The BestFIFA Men's Player(2016–present) | Total[7]\\nLionel Messi | 1 | 4 | 3 | 8\\nCristiano Ronaldo | 1 | 2 | 2 | 5\\nRonaldo | 3 | — | — | 3\\nZinedine Zidane | 3 | — | — | 3\\nRonaldinho | 2 | — | — | 2\\nRobert Lewandowski | — | — | 2 | 2\\nLothar Matthäus | 1 | — | — | 1\\nMarco van Basten | 1 | — | — | 1\\nRoberto Baggio | 1 | — | — | 1\\nRomário | 1 | — | — | 1\\nGeorge Weah | 1 | — | — | 1\\nRivaldo | 1 | — | — | 1 [...] 2019 | 1st | Lionel Messi | Barcelona | 46\\n2nd | Virgil van Dijk | Liverpool | 38\\n3rd | Cristiano Ronaldo | Juventus | 36\\n\\n2020 | 1st | Robert Lewandowski | Bayern Munich | 52\\n2nd | Cristiano Ronaldo | Juventus | 38\\n3rd | Lionel Messi | Barcelona | 35\\n\\n2021 | 1st | Robert Lewandowski | Bayern Munich | 48\\n2nd | Lionel Messi[note 3] | Paris Saint-Germain | 44\\n3rd | Mohamed Salah | Liverpool | 39 [...] Year | Rank | Player | Team | Votes\\n2016 | 1st | Cristiano Ronaldo | Real Madrid | 34.54%\\n2nd | Lionel Messi | Barcelona | 26.42%\\n3rd | Antoine Griezmann | Atlético Madrid | 7.53%\\n\\n2017 | 1st | Cristiano Ronaldo | Real Madrid | 43.16%\\n2nd | Lionel Messi | Barcelona | 19.25%\\n3rd | Neymar[note 1] | Paris Saint-Germain | 6.97%\\n\\n2018 | 1st | Luka Modrić | Real Madrid | 29.05%\\n2nd | Cristiano Ronaldo[note 2] | Juventus | 19.08%\\n3rd | Mohamed Salah | Liverpool | 11.23%\", \"score\": 0.7938904}, {\"title\": \"Ranking the top 25 men's soccer players of the 21st century - ESPN\", \"url\": \"https://www.espn.com/soccer/story/_/id/40490059/ranking-top-25-men-soccer-players-21st-century\", \"content\": \"Arguably the best soccer player in the world right now, Mbappé has followed the path of a prodigy. He made his professional debut at 16, scored his first goal at 17, played for France at 18 and won the World Cup at 19! His move from Paris Saint-Germain to Real Madrid this summer will take him to new heights and will strengthen even more his status as the heir of Lionel Messi and Cristiano Ronaldo. [...] It was no easy feat (and disagreements will surely follow), but after collating together thousands of votes, we present to you our ranking of the best 20 male soccer players of the 21st century -- and five others who just missed the list.\\n\\n\\n\\n1. Lionel Messi\", \"score\": 0.7440808}]\n",
      "None\n",
      "==================================\u001b[1m Ai Message \u001b[0m==================================\n",
      "\n",
      "The current best footballer in the world is Kylian Mbappe, according to the information provided by the search results.\n",
      "None\n"
     ]
    }
   ],
   "source": [
    "for step in agent_executor.stream(\n",
    "    {\"messages\": [HumanMessage(content=\"Who's the best footballer in the world?\")]},\n",
    "    stream_mode=\"values\"\n",
    "    ):\n",
    "    print(step[\"messages\"][-1].pretty_print())"
   ]
  },
  {
   "cell_type": "markdown",
   "id": "ba32f26f",
   "metadata": {},
   "source": [
    "### Adding a memory\n",
    "\n",
    "The agent is stateless because it does not retain information from prior interactions, thereby preventing it from recalling previous conversations."
   ]
  },
  {
   "cell_type": "code",
   "execution_count": 13,
   "id": "a353b78c",
   "metadata": {},
   "outputs": [],
   "source": [
    "from langgraph.checkpoint.memory import MemorySaver\n",
    "\n",
    "# Create a memory saver instance.\n",
    "memory = MemorySaver()\n",
    "\n",
    "agent_executor = create_react_agent(model=model, tools=tools, checkpointer=memory)\n",
    "\n",
    "config = {\"configurable\": {\"thread_id\": 66}}\n"
   ]
  },
  {
   "cell_type": "code",
   "execution_count": 14,
   "id": "e23f5bcc",
   "metadata": {},
   "outputs": [
    {
     "name": "stdout",
     "output_type": "stream",
     "text": [
      "{'agent': {'messages': [AIMessage(content=\"It's nice to meet you, Osunba Silas. Is there something I can help you with or would you like to chat?\", additional_kwargs={}, response_metadata={'token_usage': {'completion_tokens': 29, 'prompt_tokens': 286, 'total_tokens': 315, 'completion_time': 0.105454545, 'prompt_time': 0.025766565, 'queue_time': 0.100645991, 'total_time': 0.13122111}, 'model_name': 'llama-3.3-70b-versatile', 'system_fingerprint': 'fp_3f3b593e33', 'finish_reason': 'stop', 'logprobs': None}, id='run--1924e980-77e9-4adb-bb8f-63d4b98e57f2-0', usage_metadata={'input_tokens': 286, 'output_tokens': 29, 'total_tokens': 315})]}}\n",
      "-----\n"
     ]
    }
   ],
   "source": [
    "for chunk in agent_executor.stream(\n",
    "    {\"messages\": [HumanMessage(content=\"hi im osunba silas!\")]}, config\n",
    "):\n",
    "    print(chunk)\n",
    "    print(\"-----\")"
   ]
  },
  {
   "cell_type": "code",
   "execution_count": 15,
   "id": "8bca7bea",
   "metadata": {},
   "outputs": [
    {
     "name": "stdout",
     "output_type": "stream",
     "text": [
      "{'agent': {'messages': [AIMessage(content=\"You've already told me your name, which is Osunba Silas.\", additional_kwargs={}, response_metadata={'token_usage': {'completion_tokens': 17, 'prompt_tokens': 338, 'total_tokens': 355, 'completion_time': 0.061818182, 'prompt_time': 0.029752245, 'queue_time': 0.101474453, 'total_time': 0.091570427}, 'model_name': 'llama-3.3-70b-versatile', 'system_fingerprint': 'fp_3f3b593e33', 'finish_reason': 'stop', 'logprobs': None}, id='run--389ce976-77f4-4cdc-80e4-daa7f0f5f156-0', usage_metadata={'input_tokens': 338, 'output_tokens': 17, 'total_tokens': 355})]}}\n",
      "-----\n"
     ]
    }
   ],
   "source": [
    "for chunk in agent_executor.stream(\n",
    "    {\"messages\": [HumanMessage(content=\"yes, do you know who i am? what's my name?\")]}, config\n",
    "):\n",
    "    print(chunk)\n",
    "    print(\"-----\")"
   ]
  }
 ],
 "metadata": {
  "kernelspec": {
   "display_name": ".venv",
   "language": "python",
   "name": "python3"
  },
  "language_info": {
   "codemirror_mode": {
    "name": "ipython",
    "version": 3
   },
   "file_extension": ".py",
   "mimetype": "text/x-python",
   "name": "python",
   "nbconvert_exporter": "python",
   "pygments_lexer": "ipython3",
   "version": "3.11.0"
  }
 },
 "nbformat": 4,
 "nbformat_minor": 5
}
