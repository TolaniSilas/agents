{
 "cells": [
  {
   "cell_type": "code",
   "execution_count": 1,
   "id": "2f5fb28d",
   "metadata": {},
   "outputs": [
    {
     "name": "stdout",
     "output_type": "stream",
     "text": [
      "Note: you may need to restart the kernel to use updated packages.\n"
     ]
    }
   ],
   "source": [
    "%pip install -qU \"langchain[groq]\""
   ]
  },
  {
   "cell_type": "code",
   "execution_count": 2,
   "id": "640f713c",
   "metadata": {},
   "outputs": [
    {
     "name": "stdout",
     "output_type": "stream",
     "text": [
      "Requirement already satisfied: python-dotenv in c:\\users\\new user\\documents\\agents\\.venv\\lib\\site-packages (1.1.0)\n",
      "Note: you may need to restart the kernel to use updated packages.\n"
     ]
    }
   ],
   "source": [
    "%pip install python-dotenv"
   ]
  },
  {
   "cell_type": "code",
   "execution_count": 11,
   "id": "7d47c7f9",
   "metadata": {},
   "outputs": [
    {
     "name": "stdout",
     "output_type": "stream",
     "text": [
      "Note: you may need to restart the kernel to use updated packages.\n"
     ]
    }
   ],
   "source": [
    "%pip install -qU langchain-community langgraph tavily-python langgraph-checkpoint-sqlite"
   ]
  },
  {
   "cell_type": "code",
   "execution_count": 3,
   "id": "a8f157e3",
   "metadata": {},
   "outputs": [
    {
     "name": "stdout",
     "output_type": "stream",
     "text": [
      "Note: you may need to restart the kernel to use updated packages.\n"
     ]
    }
   ],
   "source": [
    "%pip install -qU \"langchain[groq]\""
   ]
  },
  {
   "cell_type": "code",
   "execution_count": 4,
   "id": "a4314519",
   "metadata": {},
   "outputs": [],
   "source": [
    "import os\n",
    "from dotenv import load_dotenv"
   ]
  },
  {
   "cell_type": "code",
   "execution_count": 13,
   "id": "5d7efa06",
   "metadata": {},
   "outputs": [],
   "source": [
    "# Load the environment variables from the .env file.\n",
    "load_dotenv()\n",
    "\n",
    "# Access the environment variables.\n",
    "groq_api_key = os.getenv(\"GROQ_API_KEY\")\n",
    "langsmith_tracing = os.getenv(\"LANGSMITH_TRACING\")\n",
    "langsmith_endpoint = os.getenv(\"LANGSMITH_ENDPOINT\")\n",
    "langsmith_api_key = os.getenv(\"LANGSMITH_API_KEY\")\n",
    "langsmith_project = os.getenv(\"LANGSMITH_PROJECT\")\n",
    "tavily_api_key = os.getenv(\"TAVILY_API_KEY\")\n",
    "\n",
    "# # Print the variables to verify.\n",
    "# print(\"GROQ API Key:\", groq_api_key)\n",
    "# print(\"LangSmith Tracing:\", langsmith_tracing)\n",
    "# print(\"LangSmith Endpoint:\", langsmith_endpoint)\n",
    "# print(\"LangSmith API Key:\", langsmith_api_key)\n",
    "# print(\"LangSmith Project:\", langsmith_project)"
   ]
  },
  {
   "cell_type": "code",
   "execution_count": 23,
   "id": "dbf097dc",
   "metadata": {},
   "outputs": [],
   "source": [
    "from langchain.chat_models import init_chat_model\n",
    "\n",
    "model = init_chat_model(model=\"llama-3.3-70b-versatile\", model_provider=\"groq\")\n",
    "\n",
    "from langchain_core.messages import HumanMessage\n",
    "\n",
    "response = model.invoke([HumanMessage(content=\"Hello, tell me about GENAI\")])"
   ]
  },
  {
   "cell_type": "code",
   "execution_count": 24,
   "id": "df59548a",
   "metadata": {},
   "outputs": [
    {
     "name": "stdout",
     "output_type": "stream",
     "text": [
      "GENAI is an AI model developed by Meta, designed to process and generate human-like language. GENAI is a general-purpose conversational AI that can understand and respond to a wide range of topics and questions.\n",
      "\n",
      "Here are some key features of GENAI:\n",
      "\n",
      "1. **Conversational capabilities**: GENAI can engage in natural-sounding conversations, using context and understanding to respond to questions and statements.\n",
      "2. **Knowledge base**: GENAI has been trained on a massive dataset of text from various sources, including books, articles, and online content, which enables it to provide accurate and up-to-date information on a broad range of topics.\n",
      "3. **Language understanding**: GENAI can comprehend nuances of language, including idioms, colloquialisms, and figurative language, allowing it to better understand the context and intent behind user input.\n",
      "4. **Response generation**: GENAI can generate human-like responses that are relevant, coherent, and engaging, making it suitable for applications such as chatbots, virtual assistants, and language translation.\n",
      "5. **Continuous learning**: GENAI is designed to learn from user interactions, which enables it to improve its performance and adapt to new topics and language patterns over time.\n",
      "\n",
      "GENAI has many potential applications, including:\n",
      "\n",
      "1. **Customer service**: GENAI can be used to power chatbots and virtual assistants that provide customer support and answer frequently asked questions.\n",
      "2. **Language translation**: GENAI can be used to improve language translation systems, enabling more accurate and natural-sounding translations.\n",
      "3. **Content generation**: GENAI can be used to generate content, such as articles, blog posts, and social media posts, saving time and effort for content creators.\n",
      "4. **Education**: GENAI can be used to create interactive learning systems that provide personalized feedback and guidance to students.\n",
      "5. **Research**: GENAI can be used to analyze and generate text data, which can be useful for researchers in fields such as social sciences, humanities, and natural language processing.\n",
      "\n",
      "Overall, GENAI has the potential to revolutionize the way we interact with technology and access information, and its applications are vast and varied.\n"
     ]
    }
   ],
   "source": [
    "print(response.content)"
   ]
  },
  {
   "cell_type": "code",
   "execution_count": 25,
   "id": "23ea5e56",
   "metadata": {},
   "outputs": [
    {
     "name": "stdout",
     "output_type": "stream",
     "text": [
      "[{'title': 'Best football players in the world ranked 2025 - Radio Times', 'url': 'https://www.radiotimes.com/tv/sport/football/best-football-players-world/', 'content': 'Best football players in the world ranked 2024 | Radio Times Best football players in the world ranked 2025 Best football players in the world ranked 2025 Who is the best player in world football? RadioTimes.com brings you our definitive list of the best football players in the world in 2025. The 24-year-old has continued to score approximately a goal per game in the best league in world football, and is firmly on course to hoist the Golden Boot once more in 2024/25 – just a few months into the campaign. Who is the best football player in the world? Kylian Mbappe is our best football player in the world 2025.', 'score': 0.98539}, {'title': 'The 100 best male footballers in the world 2024 - The Guardian', 'url': 'https://www.theguardian.com/football/ng-interactive/2024/dec/17/the-100-best-male-footballers-in-the-world-2024', 'content': 'Published Time: 2024-12-20T10:14:26.000Z The 100 best male footballers in the world 2024 | Soccer | The Guardian The Guardian - Back to homeThe Guardian World news Digital Archive Corrections Digital Archive Football The 100 best footballers in the worldSoccer Rodri has beaten Vinícius Júnior and Erling Haaland to top our ranking of the most talented players in the world this calendar year Fri 20 Dec 2024 05.14 ESTFirst published on Tue 17 Dec 2024 05.05 EST Football The Guardian picks the best prospect from each club born between 1 September 2000 and 31 August 2001, an age band known as first-year scholars. Explore more on these topics Football The 100 best footballers in the world Football Complaints & corrections Privacy policy Cookie policy All topics Digital newspaper archive', 'score': 0.98308}, {'title': \"Ranking the top 25 men's soccer players of the 21st century - ESPN\", 'url': 'https://www.espn.com/soccer/story/_/id/40490059/ranking-top-25-men-soccer-players-21st-century', 'content': 'Kylian Mbappé\\u200b\\u200b Arguably the best soccer player in the world right now, Mbappé has followed the path of a prodigy. He made his professional debut', 'score': 0.97791}]\n"
     ]
    }
   ],
   "source": [
    "from langchain_community.tools.tavily_search import TavilySearchResults\n",
    "\n",
    "search = TavilySearchResults(max_results=3)\n",
    "search_results = search.invoke(\"Who's the best footballer in the world?\")\n",
    "\n",
    "print(search_results)\n",
    "\n",
    "tools = [search]"
   ]
  },
  {
   "cell_type": "code",
   "execution_count": 27,
   "id": "2ab47b3c",
   "metadata": {},
   "outputs": [
    {
     "name": "stdout",
     "output_type": "stream",
     "text": [
      "\n"
     ]
    }
   ],
   "source": [
    "model_with_tools = model.bind_tools(tools)\n",
    "\n",
    "response = model_with_tools.invoke([HumanMessage(content=\"what's computer networking?\")])\n",
    "\n",
    "print(response.content)"
   ]
  },
  {
   "cell_type": "code",
   "execution_count": 30,
   "id": "01eee14a",
   "metadata": {},
   "outputs": [
    {
     "name": "stdout",
     "output_type": "stream",
     "text": [
      "[HumanMessage(content=\"Who's the best footballer in the world?\", additional_kwargs={}, response_metadata={}, id='dbe7ddc3-3857-43f0-b6b9-49da82832c9c'), AIMessage(content='', additional_kwargs={'tool_calls': [{'id': 'call_4760', 'function': {'arguments': '{\"query\": \"best footballer in the world\"}', 'name': 'tavily_search_results_json'}, 'type': 'function'}]}, response_metadata={'token_usage': {'completion_tokens': 23, 'prompt_tokens': 288, 'total_tokens': 311, 'completion_time': 0.083636364, 'prompt_time': 0.026709462, 'queue_time': 0.09215849899999999, 'total_time': 0.110345826}, 'model_name': 'llama-3.3-70b-versatile', 'system_fingerprint': 'fp_9a8b91ba77', 'finish_reason': 'tool_calls', 'logprobs': None}, id='run--967d0514-77da-4f6e-81a8-3de185f8af48-0', tool_calls=[{'name': 'tavily_search_results_json', 'args': {'query': 'best footballer in the world'}, 'id': 'call_4760', 'type': 'tool_call'}], usage_metadata={'input_tokens': 288, 'output_tokens': 23, 'total_tokens': 311}), ToolMessage(content='[{\"title\": \"Ranking the top 25 men\\'s soccer players of the 21st century - ESPN\", \"url\": \"https://www.espn.com/soccer/story/_/id/40490059/ranking-top-25-men-soccer-players-21st-century\", \"content\": \"Kylian Mbappé\\u200b\\u200b Arguably the best soccer player in the world right now, Mbappé has followed the path of a prodigy. He made his professional debut\", \"score\": 0.98507}, {\"title\": \"Best football players in the world ranked 2025 - Radio Times\", \"url\": \"https://www.radiotimes.com/tv/sport/football/best-football-players-world/\", \"content\": \"Best football players in the world ranked 2024 | Radio Times Best football players in the world ranked 2025 Best football players in the world ranked 2025 Who is the best player in world football? RadioTimes.com brings you our definitive list of the best football players in the world in 2025. The 24-year-old has continued to score approximately a goal per game in the best league in world football, and is firmly on course to hoist the Golden Boot once more in 2024/25 – just a few months into the campaign. Who is the best football player in the world? Kylian Mbappe is our best football player in the world 2025.\", \"score\": 0.98444}, {\"title\": \"The Best FIFA Men\\'s Player - Wikipedia\", \"url\": \"https://en.wikipedia.org/wiki/The_Best_FIFA_Men%27s_Player\", \"content\": \"Winners ; 2022 · 2nd. France · Kylian Mbappé ; 2022 · 3rd. France · Karim Benzema ; 2023, 1st. Argentina · Lionel Messi.\", \"score\": 0.97623}]', name='tavily_search_results_json', id='a0e54f2f-cc42-4136-9617-e6b2e97a2b96', tool_call_id='call_4760', artifact={'query': 'best footballer in the world', 'follow_up_questions': None, 'answer': None, 'images': [], 'results': [{'url': 'https://www.espn.com/soccer/story/_/id/40490059/ranking-top-25-men-soccer-players-21st-century', 'title': \"Ranking the top 25 men's soccer players of the 21st century - ESPN\", 'content': 'Kylian Mbappé\\u200b\\u200b Arguably the best soccer player in the world right now, Mbappé has followed the path of a prodigy. He made his professional debut', 'score': 0.98507, 'raw_content': None}, {'url': 'https://www.radiotimes.com/tv/sport/football/best-football-players-world/', 'title': 'Best football players in the world ranked 2025 - Radio Times', 'content': 'Best football players in the world ranked 2024 | Radio Times Best football players in the world ranked 2025 Best football players in the world ranked 2025 Who is the best player in world football? RadioTimes.com brings you our definitive list of the best football players in the world in 2025. The 24-year-old has continued to score approximately a goal per game in the best league in world football, and is firmly on course to hoist the Golden Boot once more in 2024/25 – just a few months into the campaign. Who is the best football player in the world? Kylian Mbappe is our best football player in the world 2025.', 'score': 0.98444, 'raw_content': None}, {'url': 'https://en.wikipedia.org/wiki/The_Best_FIFA_Men%27s_Player', 'title': \"The Best FIFA Men's Player - Wikipedia\", 'content': 'Winners ; 2022 · 2nd. France · Kylian Mbappé ; 2022 · 3rd. France · Karim Benzema ; 2023, 1st. Argentina · Lionel Messi.', 'score': 0.97623, 'raw_content': None}], 'response_time': 1.54}), AIMessage(content='The current best footballer in the world is Kylian Mbappé, according to various sources such as ESPN and Radio Times.', additional_kwargs={}, response_metadata={'token_usage': {'completion_tokens': 27, 'prompt_tokens': 719, 'total_tokens': 746, 'completion_time': 0.098181818, 'prompt_time': 0.046419323, 'queue_time': 0.092378266, 'total_time': 0.144601141}, 'model_name': 'llama-3.3-70b-versatile', 'system_fingerprint': 'fp_9a8b91ba77', 'finish_reason': 'stop', 'logprobs': None}, id='run--9dfb0ea0-d7ae-4644-ab1a-bae383c94aa9-0', usage_metadata={'input_tokens': 719, 'output_tokens': 27, 'total_tokens': 746})]\n"
     ]
    }
   ],
   "source": [
    "from langgraph.prebuilt import create_react_agent\n",
    "\n",
    "agent_executor = create_react_agent(model=model, tools=tools)\n",
    "\n",
    "response  = agent_executor.invoke(\n",
    "    {\"messages\": [HumanMessage(content=\"Who's the best footballer in the world?\")]}\n",
    "    )\n",
    "\n",
    "print(response[\"messages\"])"
   ]
  },
  {
   "cell_type": "code",
   "execution_count": null,
   "id": "f8b28a8a",
   "metadata": {},
   "outputs": [],
   "source": []
  }
 ],
 "metadata": {
  "kernelspec": {
   "display_name": ".venv",
   "language": "python",
   "name": "python3"
  },
  "language_info": {
   "codemirror_mode": {
    "name": "ipython",
    "version": 3
   },
   "file_extension": ".py",
   "mimetype": "text/x-python",
   "name": "python",
   "nbconvert_exporter": "python",
   "pygments_lexer": "ipython3",
   "version": "3.11.0"
  }
 },
 "nbformat": 4,
 "nbformat_minor": 5
}
